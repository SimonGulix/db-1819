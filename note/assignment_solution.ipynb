{
 "cells": [
  {
   "cell_type": "markdown",
   "metadata": {},
   "source": [
    "# PROJECT GEGEVENSBANKEN - SQL MODELOPLOSSINGEN\n",
    "\n",
    "# Imports"
   ]
  },
  {
   "cell_type": "code",
   "execution_count": 1,
   "metadata": {
    "hidden": true
   },
   "outputs": [],
   "source": [
    "# Benodigde packages\n",
    "\n",
    "import getpass         # Package om een paswoordveldje te genereren.\n",
    "import json            # Package om .json files in te laden (bvb kolomnamen zijn zo opgeslagen)\n",
    "import mysql.connector # MySQL package\n",
    "import numpy as np\n",
    "import os\n",
    "import pandas as pd    # Populaire package voor data-verwerking\n",
    "import re\n",
    "import sys\n",
    "\n",
    "from inspect import getsource\n",
    "from IPython.display import display, Markdown\n",
    "from os.path import dirname\n",
    "\n",
    "# Imports van binnen onze eigen repository\n",
    "this_dir = os.getcwd()\n",
    "root_dir = dirname(this_dir)\n",
    "docs_dir = os.path.join(root_dir, 'docs')\n",
    "source_dir = os.path.join(root_dir, 'src')\n",
    "script_dir = os.path.join(root_dir, 'scripts')\n",
    "solution_dir = os.path.join(root_dir, 'solution')\n",
    "\n",
    "# Text files from which some descriptions are rendered\n",
    "introduction_file = os.path.join(docs_dir, '01-introduction.md')\n",
    "instructions_file = os.path.join(docs_dir, '02-instructions.md')\n",
    "qry_description_file = os.path.join(docs_dir, '03-qry-descriptions.md')\n",
    "submissions_file = os.path.join(docs_dir, '04-submissions.md')\n",
    "\n",
    "sys.path.append(source_dir)\n",
    "\n",
    "from basics import verbind_met_GB, run_query, res_to_df # Basic functionalities, explained in introduction.\n",
    "from custom_parsers import parse_markdown"
   ]
  },
  {
   "cell_type": "code",
   "execution_count": 2,
   "metadata": {},
   "outputs": [],
   "source": [
    "# Imports specific to the solution\n",
    "\n",
    "sys.path.append(solution_dir)\n",
    "import model_solution as ms # Importeer de file `soltution/model_solution.py` als module 'ms'\n",
    "from custom_parsers import collect_relevant_solutions"
   ]
  },
  {
   "cell_type": "code",
   "execution_count": 3,
   "metadata": {},
   "outputs": [
    {
     "data": {
      "text/markdown": [
       "# 1. Inleiding\n",
       "\n",
       "Cf. het document `prerequisites.pdf` in de `docs` folder. \n",
       "\n",
       "## 1.1 Python packages\n",
       "\n",
       "De import statements (cf. boven) vormen de standaardconfiguratie van python-packages die we gebruiken. _Van deze configuratie afwijken is dan ook op eigen risico, gezien dat betekent dat je ook afwijkt van de configuratie van de computer waarop wij jullie oplossingen runnen._\n",
       "\n",
       "## 1.2 Interageren met een gegevensbank\n",
       "\n",
       "Naast de standaard packages, importeren we ook drie zelfgemaakte functies. Deze implementeren functionaliteiten die je vaak zal nodig hebben als je vanuit python queries naar je gegevensbank wil sturen: `verbind_met_GB`, `run_query` en `res_to_df`. Hun source code (en documentatie) bekijken geeft de nodige informatie over hoe ze te gebruiken:\n",
       "    \n",
       "    \n"
      ],
      "text/plain": [
       "<IPython.core.display.Markdown object>"
      ]
     },
     "metadata": {},
     "output_type": "display_data"
    }
   ],
   "source": [
    "display(Markdown(parse_markdown(introduction_file, section_number=[1,2, 3]))) # Tekst en uitleg worden ingelezen uit bestanden uit de `docs` folder."
   ]
  },
  {
   "cell_type": "code",
   "execution_count": 4,
   "metadata": {},
   "outputs": [
    {
     "name": "stdout",
     "output_type": "stream",
     "text": [
      "def verbind_met_GB(username, hostname, gegevensbanknaam, password=None):\n",
      "    \"\"\"\n",
      "    Maak verbinding met een externe gegevensbank\n",
      "\n",
      "    Parameters\n",
      "    ----------\n",
      "\n",
      "    username:           str\n",
      "                        Username van de gebruiker\n",
      "    hostname            str\n",
      "                        Naam van de host. In het geval van lokale server 'localhost'\n",
      "    gegevensbanknaam    str\n",
      "                        Naam van de gegevensbank\n",
      "    password            str, None\n",
      "                        Wachtwoord kan al meegegeven worden. Indien niet, wordt\n",
      "                        een wachtwoordveldje gegenereerd waar de gebruiker het\n",
      "                        kan ingeven.\n",
      "    Returns\n",
      "    -------\n",
      "    connection          connection object\n",
      "                        Dit is het soort object dat wordt teruggeven door\n",
      "                        connect() methods van packages die voldoen aan de DB-API\n",
      "\n",
      "    \"\"\"\n",
      "\n",
      "    if password is None:\n",
      "        password = getpass.getpass()  # Genereer vakje voor wachtwoord in te geven\n",
      "    else:\n",
      "        password = password\n",
      "\n",
      "    connection = mysql.connector.connect(host=hostname,\n",
      "                                         user=username,\n",
      "                                         passwd=password,\n",
      "                                         db=gegevensbanknaam)\n",
      "    return connection\n",
      "\n",
      "- --- - --- - --- - --- - --- - --- - - --- - --- - --- - --- - --- - --- -\n",
      "\n",
      "def run_query(connection, query):\n",
      "    \"\"\"\n",
      "    Voer een query uit op een bestaande connection.\n",
      "\n",
      "    Geeft het resultaat van de query terug.\n",
      "\n",
      "    Parameters\n",
      "    ----------\n",
      "    connection      connection object\n",
      "                    Dit is het soort object dat wordt teruggeven door\n",
      "                    connect() methods van packages die voldoen aan de DB-API\n",
      "    query           str\n",
      "                    SQL-query geschreven als een gewone string\n",
      "\n",
      "    Returns\n",
      "    -------\n",
      "\n",
      "    \"\"\"\n",
      "\n",
      "    # Maak een cursor en voer query uit\n",
      "    cursor = connection.cursor()\n",
      "    cursor.execute(query)\n",
      "\n",
      "    # Haal het resultaat op\n",
      "    res = cursor.fetchall()\n",
      "\n",
      "    return res\n",
      "\n",
      "- --- - --- - --- - --- - --- - --- - - --- - --- - --- - --- - --- - --- -\n",
      "\n",
      "def res_to_df(query_result, column_names):\n",
      "    \"\"\"\n",
      "    Zet ruwe output van een query om naar een DataFrame met gegeven kolomnamen.\n",
      "\n",
      "    Let op: Het resultaat van de query moet dus exact evenveel kolommen bevatten\n",
      "    als kolomnamen die je meegeeft. Als dit niet het geval is, is dit een indicatie\n",
      "    dat je oplossing fout is. (Gezien wij de kolomnamen van de oplossing al cadeau doen)\n",
      "\n",
      "    Parameters\n",
      "    ----------\n",
      "    query_result:\n",
      "                    Resultaat van een uitgevoerde query zoals dat gegeven wordt\n",
      "                    door cursor.fetchall()\n",
      "    column_names    list\n",
      "                    Lijst van kolomnamen voor het resulterende DataFrame\n",
      "\n",
      "    Returns\n",
      "    -------\n",
      "    df:             pd.DataFrame\n",
      "                    DataFrame dat het resultaat bevat.\n",
      "\n",
      "    \"\"\"\n",
      "\n",
      "    df = pd.DataFrame(query_result, columns=column_names)\n",
      "    return df\n",
      "\n"
     ]
    }
   ],
   "source": [
    "print(getsource(verbind_met_GB))\n",
    "print('- --- - --- - --- - --- - --- - --- - - --- - --- - --- - --- - --- - --- -\\n')\n",
    "print(getsource(run_query))\n",
    "print('- --- - --- - --- - --- - --- - --- - - --- - --- - --- - --- - --- - --- -\\n')\n",
    "print(getsource(res_to_df))"
   ]
  },
  {
   "cell_type": "code",
   "execution_count": 5,
   "metadata": {},
   "outputs": [
    {
     "data": {
      "text/markdown": [
       "## 1.3 Kolomnamen en input parameters\n",
       "\n",
       "We leggen op voorhand reeds de **kolomnamen van de oplossingen**, en de **naam en types van de inputparameters** vast. Hier moet je je dus aan houden en mag je dus niks aan wijzigen.\n",
       "\n",
       "- Het aantal kolommen (en hun volgorde) van jullie oplossing en de onze moeten exact overeen komen, vandaar dat de kolomnamen hieronder gegeven zijn. Dit komt trouwens van pas bij het opstellen van je queries! \n",
       "    \n",
       "- Dankzij de voorbeeldparameters, die al gegeven zijn in de functiedefinitie e.g.: `query_42(connection, col_names, super_voorbeeldparam = 101)` weten jullie exact welke vorm en type (integer, lijst, etc) de inputparameters moeten hebben. Wijzig zeker niets aan de naam van die parameters (*super_voorbeeldparam* blijft *super_voorbeeldparam*). De default waarden geven op hun beurt dan weer informatie over het type van de inputparameters. Let wel: de (soms onnozele) default waarden zijn _louter ter illustratie_, zorg ervoor dat je query ook met andere waarden dan de defaults werkt!\n",
       "\n",
       "**Samengevat: oplossingen die deze vorm niet respecteren, zullen crashen op onze machines en resulteren in een score van 0 op die query.**\n"
      ],
      "text/plain": [
       "<IPython.core.display.Markdown object>"
      ]
     },
     "metadata": {},
     "output_type": "display_data"
    }
   ],
   "source": [
    "display(Markdown(parse_markdown(introduction_file, section_number=4)))"
   ]
  },
  {
   "cell_type": "code",
   "execution_count": 6,
   "metadata": {},
   "outputs": [
    {
     "data": {
      "text/plain": [
       "{'query_01': ['tname', 'year', 'HomeRun'],\n",
       " 'query_02': ['nameFirst', 'nameLast', 'birthYear', 'birthMonth', 'birthDay'],\n",
       " 'query_03': ['nameFirst', 'nameLast', 'tname'],\n",
       " 'query_04': ['teamID', 'name', 'yearID', 'W', 'L'],\n",
       " 'query_05': ['playerID', 'nameGiven', 'n_pAwards'],\n",
       " 'query_06': ['playerID'],\n",
       " 'query_07': ['playerID', 'nameFirst', 'nameLast'],\n",
       " 'query_08': ['playerID', 'nameFirst', 'nameLast'],\n",
       " 'query_09': ['teamID', 'tname', 'yearID', 'W'],\n",
       " 'query_10': ['teamId', 'tname']}"
      ]
     },
     "execution_count": 6,
     "metadata": {},
     "output_type": "execute_result"
    }
   ],
   "source": [
    "# Inspecteer de dictionairy van kolomnamen\n",
    "\n",
    "filename = os.path.join(solution_dir, 'all_q_colnam.json')\n",
    "col_names = json.load(open(filename, 'r'))    \n",
    "\n",
    "col_names # Inspecteer dictionary"
   ]
  },
  {
   "cell_type": "code",
   "execution_count": 7,
   "metadata": {},
   "outputs": [
    {
     "data": {
      "text/markdown": [
       "# 2. Instructies bij gebruik van de notebook\n",
       "\n",
       "Hieronder volgen 10 onvolledige functies (e.g., `query_42(connection, col_names, super_voorbeeldparam = ['joske', 'jef'])`). Aan jullie om ze aan te vullen zodat de functie:  \n",
       "\n",
       "1. Een corecte query opstelt\n",
       "2. De query uitvoert op de database\n",
       "3. Het resultaat teruggeeft in een DataFrame.\n",
       "\n",
       "Voor stap 2 en 3 zijn de nodige functies al voorhanden, i.e.: `run_query(connection, query)` en `res_to_df(res, column_names)`. Jullie werk zal dus vooral bestaan uit stap 1, queries opstellen. Elke functie heeft minstens 2 inputargumenten:\n",
       "\n",
       "1. `connection`:   Een connection object \n",
       "2. `column_names`: De kolomnamen van het Pandas DataFrame\n",
       "    \n",
       "Gevolgd door eventuele extra argumenten (e.g., `super_voorbeeldparam = ['joske','jef']`) die dienen om parameters in te query te injecteren. \n",
       "\n",
       "**Nogmaals: verander niets aan de namen van de functies, namen van de functie-argumenten en de kolomnamen van de resulterende DataFrames. Wijzigingen hieraan leiden onvermijdelijk tot een score van 0 op die query.**\n",
       "\n",
       "Je kan naar believen extra cellen toevoegen om je queries te testen, resultaten te inspecteren etc. We vragen jullie om de finale, ingevulde functies te kopiëren naar een extern script dat enkel en alleen deze oplossingen bevat. Cf. de laatste sectie van deze notebook voor instructies omtrent hoe in te dienen.\n",
       "\n",
       "## 2.1 Voorbeeld-query opstellen\n",
       "\n",
       "Om jullie al wat op weg te zetten volgt hier een voorbeeldje over hoe je te werk kan gaan.\n",
       "\n",
       "**Beschrijving**\n",
       "\n",
       "Het resultaat van deze functie is een Pandas DataFrame met teamnaam, jaar en aantal homeruns van teams die meer dan een gegeven aantal `homeruns` hadden in dat jaar.\n",
       "\n",
       "Sorteer aflopend op aantal homeruns.\n",
       "\n",
       "**Oplossing**\n",
       "\n"
      ],
      "text/plain": [
       "<IPython.core.display.Markdown object>"
      ]
     },
     "metadata": {},
     "output_type": "display_data"
    }
   ],
   "source": [
    "display(Markdown(parse_markdown(instructions_file, section_number=[1,2])))"
   ]
  },
  {
   "cell_type": "code",
   "execution_count": 8,
   "metadata": {},
   "outputs": [],
   "source": [
    "# Voorbeeld-query (oplossing)\n",
    "def query_EX(connection, column_names, homeruns=20):\n",
    "    # Bouw je query\n",
    "    query=\"\"\"\n",
    "    select    t.name, t.yearID, t.HR\n",
    "    from      Teams as t\n",
    "    where     t.HR > {}\n",
    "    order by  t.HR DESC;\n",
    "    \"\"\".format(homeruns) # TIP: Zo krijg je parameters in de string (samen met `{}` in de string)\n",
    "    \n",
    "    # Stap 2 & 3\n",
    "    res = run_query(connection, query)         # Query uitvoeren\n",
    "    df = res_to_df(res, column_names)          # Query in DataFrame brengen\n",
    "    \n",
    "    return df"
   ]
  },
  {
   "cell_type": "code",
   "execution_count": 9,
   "metadata": {},
   "outputs": [
    {
     "data": {
      "text/markdown": [
       "## 2.2 Voorbeeld-query runnen\n",
       "\n",
       "Om een query te runnen maken we gebruik van de hulpfunctie die we eerder ter beschikking stelden (e.g. `verbind_met_GB`). Concreet bestaat dit proces uit twee stappen:\n",
       "\n",
       "1. Eerst maken we een verbindingsobject met de databank\n",
       "2. Vervolgens runnen we onze query, en inspecteren we het resultaat.\n"
      ],
      "text/plain": [
       "<IPython.core.display.Markdown object>"
      ]
     },
     "metadata": {},
     "output_type": "display_data"
    }
   ],
   "source": [
    "display(Markdown(parse_markdown(instructions_file, section_number=3)))"
   ]
  },
  {
   "cell_type": "code",
   "execution_count": 10,
   "metadata": {},
   "outputs": [],
   "source": [
    "# STAP 01: Verbindingsobject aanmaken\n",
    "\n",
    "username = 'root'      # Vervang dit als je via een andere user queries stuurt\n",
    "hostname = 'localhost' # Als je een databank lokaal draait, is dit localhost.\n",
    "db = 'db1819'          # Naam van de gegevensbank op je XAMPP Mysql server\n",
    "\n",
    "# We verbinden met de gegevensbank\n",
    "c = verbind_met_GB(username, hostname, db, password='')"
   ]
  },
  {
   "cell_type": "code",
   "execution_count": 11,
   "metadata": {},
   "outputs": [
    {
     "data": {
      "text/html": [
       "<div>\n",
       "<style scoped>\n",
       "    .dataframe tbody tr th:only-of-type {\n",
       "        vertical-align: middle;\n",
       "    }\n",
       "\n",
       "    .dataframe tbody tr th {\n",
       "        vertical-align: top;\n",
       "    }\n",
       "\n",
       "    .dataframe thead th {\n",
       "        text-align: right;\n",
       "    }\n",
       "</style>\n",
       "<table border=\"1\" class=\"dataframe\">\n",
       "  <thead>\n",
       "    <tr style=\"text-align: right;\">\n",
       "      <th></th>\n",
       "      <th>tname</th>\n",
       "      <th>year</th>\n",
       "      <th>HomeRun</th>\n",
       "    </tr>\n",
       "  </thead>\n",
       "  <tbody>\n",
       "    <tr>\n",
       "      <th>0</th>\n",
       "      <td>Seattle Mariners</td>\n",
       "      <td>1997</td>\n",
       "      <td>264</td>\n",
       "    </tr>\n",
       "    <tr>\n",
       "      <th>1</th>\n",
       "      <td>Texas Rangers</td>\n",
       "      <td>2005</td>\n",
       "      <td>260</td>\n",
       "    </tr>\n",
       "    <tr>\n",
       "      <th>2</th>\n",
       "      <td>Baltimore Orioles</td>\n",
       "      <td>1996</td>\n",
       "      <td>257</td>\n",
       "    </tr>\n",
       "    <tr>\n",
       "      <th>3</th>\n",
       "      <td>Toronto Blue Jays</td>\n",
       "      <td>2010</td>\n",
       "      <td>257</td>\n",
       "    </tr>\n",
       "    <tr>\n",
       "      <th>4</th>\n",
       "      <td>Baltimore Orioles</td>\n",
       "      <td>2016</td>\n",
       "      <td>253</td>\n",
       "    </tr>\n",
       "  </tbody>\n",
       "</table>\n",
       "</div>"
      ],
      "text/plain": [
       "               tname  year  HomeRun\n",
       "0   Seattle Mariners  1997      264\n",
       "1      Texas Rangers  2005      260\n",
       "2  Baltimore Orioles  1996      257\n",
       "3  Toronto Blue Jays  2010      257\n",
       "4  Baltimore Orioles  2016      253"
      ]
     },
     "execution_count": 11,
     "metadata": {},
     "output_type": "execute_result"
    }
   ],
   "source": [
    "# STAP 02: Query runnen, resultaat ophalen en inspecteren.\n",
    "\n",
    "kolomnamen_voorbeeldquery = col_names['query_01']        # Voorbeeldquery heeft dezelfde kolomnamen als query 1.\n",
    "\n",
    "df = query_EX(c,kolomnamen_voorbeeldquery,homeruns=10)   # Query-functie uitvoeren, geeft resultaat van de query in een DataFrame\n",
    "\n",
    "df.head()                                                # Inspecteer eerste resultaten (laat. head() weg om alles te zien)"
   ]
  },
  {
   "cell_type": "markdown",
   "metadata": {},
   "source": [
    "## 3. Queries \n",
    "\n",
    "Hieronder vinden jullie de modeloplossingen. Door inconsistenties in de gegevensbank worden bij sommige queries meerdere oplossingen als correct aanzien. \n",
    "\n",
    "Bij correctie wordt jullie oplossing vergeleken met elke acceptable oplossing en de hoogste score telt."
   ]
  },
  {
   "cell_type": "code",
   "execution_count": 12,
   "metadata": {},
   "outputs": [
    {
     "data": {
      "text/markdown": [
       "## 3.1 Query 01\n",
       "\n",
       "**Beschrijving**\n",
       "\n",
       "Het resultaat van deze functie is een Pandas dataframe met: de teamnaam, het jaar, en het aantal homeruns per team, en dit voor alle teams.\n",
       "\n",
       "Sorteer op aantal homeruns van hoog naar laag.\n",
       "\n",
       "\n"
      ],
      "text/plain": [
       "<IPython.core.display.Markdown object>"
      ]
     },
     "metadata": {},
     "output_type": "display_data"
    }
   ],
   "source": [
    "display(Markdown(parse_markdown(qry_description_file, section_number=1)))"
   ]
  },
  {
   "cell_type": "markdown",
   "metadata": {},
   "source": [
    "**Oplossing**"
   ]
  },
  {
   "cell_type": "code",
   "execution_count": 13,
   "metadata": {},
   "outputs": [
    {
     "name": "stdout",
     "output_type": "stream",
     "text": [
      "def query_01(connection, column_names):\n",
      "    # Bouw je query\n",
      "    query = \"\"\"\n",
      "    select t.name, t.yearID, t.HR\n",
      "    from Teams as t\n",
      "    order by t.HR desc;\n",
      "    \"\"\"\n",
      "\n",
      "    # Stap 2 & 3\n",
      "    res = run_query(connection, query)  # Query uitvoeren\n",
      "    df = res_to_df(res, column_names)  # Query in DataFrame brengen\n",
      "\n",
      "    return df\n",
      "\n"
     ]
    }
   ],
   "source": [
    "qry_01 = collect_relevant_solutions(ms, query_id=1)\n",
    "\n",
    "# Print oplossing: in dit geval de source code van de geimporteerde python functies uit de `model_solution.py` file\n",
    "for naam, functie, source_code in qry_01:  \n",
    "    print(source_code) "
   ]
  },
  {
   "cell_type": "markdown",
   "metadata": {},
   "source": [
    "**Uitvoering (voorbeeld)**\n",
    "\n",
    "Om een oplossing zelf te runnen, net zoals jullie zelf al deden in de opgave, kan je simpelweg de geimporteerde functies zelf gebruiken. Natuurlijk moet je nog wel de correcte parameters meegeven. \n",
    "\n",
    "De functie `collect_relevant_solutions` geeft een lijst van tupels terug. Zo'n tupel heeft de volgende structuur `(naam,  functie, source_code)`. Om de oplossing te runnen, heb je dus de `functie` nodig uit zo'n tupel. \n",
    "\n",
    "Bijvoorbeeld:"
   ]
  },
  {
   "cell_type": "code",
   "execution_count": 14,
   "metadata": {},
   "outputs": [
    {
     "data": {
      "text/html": [
       "<div>\n",
       "<style scoped>\n",
       "    .dataframe tbody tr th:only-of-type {\n",
       "        vertical-align: middle;\n",
       "    }\n",
       "\n",
       "    .dataframe tbody tr th {\n",
       "        vertical-align: top;\n",
       "    }\n",
       "\n",
       "    .dataframe thead th {\n",
       "        text-align: right;\n",
       "    }\n",
       "</style>\n",
       "<table border=\"1\" class=\"dataframe\">\n",
       "  <thead>\n",
       "    <tr style=\"text-align: right;\">\n",
       "      <th></th>\n",
       "      <th>tname</th>\n",
       "      <th>year</th>\n",
       "      <th>HomeRun</th>\n",
       "    </tr>\n",
       "  </thead>\n",
       "  <tbody>\n",
       "    <tr>\n",
       "      <th>0</th>\n",
       "      <td>Seattle Mariners</td>\n",
       "      <td>1997</td>\n",
       "      <td>264</td>\n",
       "    </tr>\n",
       "    <tr>\n",
       "      <th>1</th>\n",
       "      <td>Texas Rangers</td>\n",
       "      <td>2005</td>\n",
       "      <td>260</td>\n",
       "    </tr>\n",
       "    <tr>\n",
       "      <th>2</th>\n",
       "      <td>Baltimore Orioles</td>\n",
       "      <td>1996</td>\n",
       "      <td>257</td>\n",
       "    </tr>\n",
       "    <tr>\n",
       "      <th>3</th>\n",
       "      <td>Toronto Blue Jays</td>\n",
       "      <td>2010</td>\n",
       "      <td>257</td>\n",
       "    </tr>\n",
       "    <tr>\n",
       "      <th>4</th>\n",
       "      <td>Baltimore Orioles</td>\n",
       "      <td>2016</td>\n",
       "      <td>253</td>\n",
       "    </tr>\n",
       "  </tbody>\n",
       "</table>\n",
       "</div>"
      ],
      "text/plain": [
       "               tname  year  HomeRun\n",
       "0   Seattle Mariners  1997      264\n",
       "1      Texas Rangers  2005      260\n",
       "2  Baltimore Orioles  1996      257\n",
       "3  Toronto Blue Jays  2010      257\n",
       "4  Baltimore Orioles  2016      253"
      ]
     },
     "execution_count": 14,
     "metadata": {},
     "output_type": "execute_result"
    }
   ],
   "source": [
    "\"\"\"\n",
    "Stop de eerste functie in een variabele `qry`\n",
    "\n",
    "    1. De eerste index (=0) verwijst naar de eerste mogelijke oplossing (soms zijn er meer)\n",
    "    2. De tweede index (=1) verwijst naar het tweede element van de tupels die `collect_relevant_solutions` teruggeeft. Die\n",
    "       zijn van de vorm (naam, functie, source_code)\n",
    "\"\"\"\n",
    "\n",
    "query_01_sol = qry_01[0][1]                   # Haal de functie eruit, geef nieuwe naam (`query_01_sol`)\n",
    "\n",
    "query_01_sol(c, col_names['query_01']).head() # Deze functie kan je nu gewoon gebruiken alsof je ze zelf gedefinieerd zou hebben!"
   ]
  },
  {
   "cell_type": "code",
   "execution_count": 15,
   "metadata": {},
   "outputs": [
    {
     "data": {
      "text/markdown": [
       "## 3.2 Query 02\n",
       "\n",
       "**Beschrijving**\n",
       "\n",
       "Het resultaat van deze functie is een Pandas dataframe met: de voornaam, achternaam, geboortejaar, geboortemaand, geboortedag van spelers die hun eerste major league appearance maakten na een gegeven *`datum_x`*. \n",
       "\n",
       "Sorteer alfabetisch oplopend op achternaam.\n",
       "\n",
       "\n"
      ],
      "text/plain": [
       "<IPython.core.display.Markdown object>"
      ]
     },
     "metadata": {},
     "output_type": "display_data"
    }
   ],
   "source": [
    "display(Markdown(parse_markdown(qry_description_file, section_number=2)))"
   ]
  },
  {
   "cell_type": "markdown",
   "metadata": {},
   "source": [
    "**Oplossing**"
   ]
  },
  {
   "cell_type": "code",
   "execution_count": 16,
   "metadata": {},
   "outputs": [
    {
     "name": "stdout",
     "output_type": "stream",
     "text": [
      "def query_02(connection, column_names, datum_x=\"1980-01-16\"):\n",
      "    # Bouw je query\n",
      "    query = \"\"\"\n",
      "    select m.nameFirst, m.nameLast, m.birthYear, m.birthMonth, m.birthDay\n",
      "    from Master as m\n",
      "    where m.debut > '{}'\n",
      "    order by m.nameLast asc;\n",
      "    \"\"\".format(\n",
      "        datum_x\n",
      "    )\n",
      "\n",
      "    # Stap 2 & 3\n",
      "    res = run_query(connection, query)  # Query uitvoeren\n",
      "    df = res_to_df(res, column_names)  # Query in DataFrame brengen\n",
      "\n",
      "    return df\n",
      "\n"
     ]
    }
   ],
   "source": [
    "qry_02 = collect_relevant_solutions(ms, query_id=2)\n",
    "\n",
    "# Print solution(s)\n",
    "for name, query, source_code in qry_02:\n",
    "    print(source_code)"
   ]
  },
  {
   "cell_type": "code",
   "execution_count": 17,
   "metadata": {},
   "outputs": [
    {
     "data": {
      "text/markdown": [
       "## 3.3 Query 03\n",
       "\n",
       "**Beschrijving**\n",
       "\n",
       "Het resultaat van deze functie is een Pandas dataframe dat, per club: de clubnaam en de voor- en achternaam van alle managers weergeeft, die ooit voor de club gewerkt hebben als niet-playermanager. Per club mag een welbepaalde manager slechts 1 keer in het resultaat voorkomen. \n",
       "\n",
       "Sorteer alfabetisch oplopend op clubnaam.\n",
       "\n",
       "\n"
      ],
      "text/plain": [
       "<IPython.core.display.Markdown object>"
      ]
     },
     "metadata": {},
     "output_type": "display_data"
    }
   ],
   "source": [
    "display(Markdown(parse_markdown(qry_description_file, section_number=3)))"
   ]
  },
  {
   "cell_type": "markdown",
   "metadata": {},
   "source": [
    "**Oplossing**"
   ]
  },
  {
   "cell_type": "code",
   "execution_count": 18,
   "metadata": {},
   "outputs": [
    {
     "name": "stdout",
     "output_type": "stream",
     "text": [
      "def query_03(connection, column_names):\n",
      "    # Bouw je query\n",
      "    query = \"\"\"\n",
      "    select distinct m.nameFirst, m.nameLast, t.name\n",
      "    from Managers as mgr, Teams as t, Master as m\n",
      "    where   mgr.playerID = m.playerID and \n",
      "            mgr.teamID = t.teamID and \n",
      "            mgr.yearID = t.yearID and \n",
      "            mgr.plyrMgr = 'N'\n",
      "    order by t.name asc;\n",
      "    \"\"\"\n",
      "    \n",
      "    # Stap 2 & 3\n",
      "    res = run_query(connection, query)  # Query uitvoeren\n",
      "    df = res_to_df(res, column_names)  # Query in DataFrame brengen\n",
      "\n",
      "    return df\n",
      "\n",
      "def query_03_v_02(connection, column_names):\n",
      "    # Bouw je query\n",
      "    query = \"\"\"\n",
      "    select  distinct m.nameFirst, m.nameLast, t.name\n",
      "    from    Managers as mgr, Teams as t, Master as m\n",
      "    where   mgr.playerID = m.playerID and \n",
      "            mgr.teamID = t.teamID and \n",
      "            mgr.plyrMgr = 'N'\n",
      "    order by t.name asc;\n",
      "    \"\"\"\n",
      "\n",
      "    # Stap 2 & 3\n",
      "    res = run_query(connection, query)  # Query uitvoeren\n",
      "    df = res_to_df(res, column_names)  # Query in DataFrame brengen\n",
      "\n",
      "    return df\n",
      "\n"
     ]
    }
   ],
   "source": [
    "qry_03 = collect_relevant_solutions(ms, query_id=3)\n",
    "\n",
    "# Print solution(s)\n",
    "for name, query, source_code in qry_03:\n",
    "    print(source_code)"
   ]
  },
  {
   "cell_type": "code",
   "execution_count": 19,
   "metadata": {},
   "outputs": [
    {
     "data": {
      "text/markdown": [
       "## 3.4 Query 04\n",
       "\n",
       "**Beschrijving**\n",
       "\n",
       "Het resultaat van deze functie is een Pandas dataframe dat alle teams bevat die in `league_l` gespeeld hebben in een jaar na `jaar_y` maar niet in die league gespeeld hebben vroeger dan `jaar_x` (excl. `jaar_y` and `jaar_x`).\n",
       "\n",
       "Het resultaat bestaat uit uit teamID, naam, jaar en wins en losses in dat jaar.\n",
       "\n",
       "Sorteer oplopend op teamID en dan oplopend op yearID.\n",
       "\n",
       "\n"
      ],
      "text/plain": [
       "<IPython.core.display.Markdown object>"
      ]
     },
     "metadata": {},
     "output_type": "display_data"
    }
   ],
   "source": [
    "display(Markdown(parse_markdown(qry_description_file, section_number=4)))"
   ]
  },
  {
   "cell_type": "markdown",
   "metadata": {},
   "source": [
    "**Oplossing**"
   ]
  },
  {
   "cell_type": "code",
   "execution_count": 20,
   "metadata": {},
   "outputs": [
    {
     "name": "stdout",
     "output_type": "stream",
     "text": [
      "def query_04(connection, column_names, league_l=\"mlb\", jaar_x=1980, jaar_y=1990):\n",
      "    # Bouw je query\n",
      "    query = \"\"\"\n",
      "    SELECT teamID, name, yearID, W, L\n",
      "    FROM teams AS t\n",
      "    WHERE   lgID = '{}' AND \n",
      "            t.yearID > {}  AND \n",
      "            NOT EXISTS (SELECT * \n",
      "                        FROM teams AS t2\n",
      "                        WHERE   t.teamID = t2.teamID AND\n",
      "                                t.lgID = t2.lgID AND\n",
      "                                t2.yearID < {})\n",
      "    ORDER BY teamID ASC, yearID ASC;\n",
      "    \"\"\".format(\n",
      "        league_l, jaar_x, jaar_y\n",
      "    )\n",
      "\n",
      "    # Stap 2 & 3\n",
      "    res = run_query(connection, query)  # Query uitvoeren\n",
      "    df = res_to_df(res, column_names)  # Query in DataFrame brengen\n",
      "\n",
      "    return df\n",
      "\n",
      "def query_04_v02(connection, column_names, league_l=\"mlb\", jaar_x=1980, jaar_y=1990):\n",
      "    # Bouw je query\n",
      "    query = \"\"\"\n",
      "    SELECT teamID, name, yearID, W, L\n",
      "    FROM teams AS t\n",
      "    WHERE\n",
      "        t.lgID = '{}' AND\n",
      "        EXISTS\n",
      "            (SELECT * \n",
      "             FROM teams AS t3\n",
      "             WHERE\n",
      "                 t.teamID = t3.teamID AND\n",
      "                 t.lgID = t3.lgID AND\n",
      "                 t3.yearID > {}\n",
      "            ) AND\n",
      "        NOT EXISTS\n",
      "            (SELECT * \n",
      "             FROM teams AS t2\n",
      "             WHERE\n",
      "                 t.teamID = t2.teamID AND\n",
      "                 t.lgID = t2.lgID AND\n",
      "                 t2.yearID < {})\n",
      "\n",
      "    ORDER BY teamID ASC, yearID ASC;\n",
      "    \"\"\".format(\n",
      "        league_l, jaar_x, jaar_y\n",
      "    )\n",
      "\n",
      "    # Stap 2 & 3\n",
      "    res = run_query(connection, query)  # Query uitvoeren\n",
      "    df = res_to_df(res, column_names)  # Query in DataFrame brengen\n",
      "\n",
      "    return df\n",
      "\n"
     ]
    }
   ],
   "source": [
    "qry_04 = collect_relevant_solutions(ms, query_id=4)\n",
    "\n",
    "# Print solution(s)\n",
    "for name, query, source_code in qry_04:\n",
    "    print(source_code)"
   ]
  },
  {
   "cell_type": "code",
   "execution_count": 21,
   "metadata": {},
   "outputs": [
    {
     "data": {
      "text/markdown": [
       "## 3.5 Query 05\n",
       "\n",
       "**Beschrijving**\n",
       "\n",
       "Het resultaat van deze functie is een Pandas dataframe dat alle personen bevat die zowel een speler als een manager prijs hebben gewonnen. Van deze personen zijn we geïnteresseerd in: de ID, de nameGiven en het aantal spelersprijzen. \n",
       "\n",
       "Sorteer aflopend op het aantal gewonnen spelersprijzen en dan aflopend op spelerIDs.\n",
       "\n",
       "\n"
      ],
      "text/plain": [
       "<IPython.core.display.Markdown object>"
      ]
     },
     "metadata": {},
     "output_type": "display_data"
    }
   ],
   "source": [
    "display(Markdown(parse_markdown(qry_description_file, section_number=5)))"
   ]
  },
  {
   "cell_type": "markdown",
   "metadata": {},
   "source": [
    "\n",
    "**Oplossing**"
   ]
  },
  {
   "cell_type": "code",
   "execution_count": 22,
   "metadata": {},
   "outputs": [
    {
     "name": "stdout",
     "output_type": "stream",
     "text": [
      "def query_05(connection, column_names):\n",
      "    # Bouw je query\n",
      "    query = \"\"\"\n",
      "    SELECT p.playerID, p.nameGiven, COUNT(pa.awardID) as pAwards \n",
      "    FROM master AS p, awardsplayers AS pa\n",
      "    WHERE   p.playerID = pa.playerID\n",
      "            AND EXISTS (SELECT *\n",
      "                        FROM  awardsmanagers AS ma\n",
      "                        WHERE p.playerID = ma.playerID)\n",
      "    GROUP BY playerID\n",
      "    ORDER BY pAwards DESC, p.playerID DESC;\n",
      "    \"\"\"\n",
      "\n",
      "    # Stap 2 & 3\n",
      "    res = run_query(connection, query)  # Query uitvoeren\n",
      "    df = res_to_df(res, column_names)  # Query in DataFrame brengen\n",
      "\n",
      "    return df\n",
      "\n"
     ]
    }
   ],
   "source": [
    "qry_05 = collect_relevant_solutions(ms, query_id=5)\n",
    "\n",
    "# Print solution(s)\n",
    "for name, query, source_code in qry_05:\n",
    "    print(source_code)"
   ]
  },
  {
   "cell_type": "code",
   "execution_count": 23,
   "metadata": {},
   "outputs": [
    {
     "data": {
      "text/markdown": [
       "## 3.6 Query 06\n",
       "\n",
       "**Beschrijving**\n",
       "\n",
       "Het resultaat van deze functie is een Pandas dataframe dat alle unieke personen bevat die in 3 opeenvolgende jaren een spelersprijs hebben gewonnen. Van deze personen willen we de playerID.\n",
       "\n",
       "Sorteer oplopend op playerID.\n",
       "\n",
       "\n"
      ],
      "text/plain": [
       "<IPython.core.display.Markdown object>"
      ]
     },
     "metadata": {},
     "output_type": "display_data"
    }
   ],
   "source": [
    "display(Markdown(parse_markdown(qry_description_file, section_number=6)))"
   ]
  },
  {
   "cell_type": "markdown",
   "metadata": {},
   "source": [
    "**Oplossing**"
   ]
  },
  {
   "cell_type": "code",
   "execution_count": 24,
   "metadata": {},
   "outputs": [
    {
     "name": "stdout",
     "output_type": "stream",
     "text": [
      "def query_06(connection, column_names):\n",
      "    # Bouw je query\n",
      "    query = \"\"\"\n",
      "    SELECT DISTINCT AP1.playerID\n",
      "    FROM AwardsPlayers as AP1, AwardsPlayers as AP2, AwardsPlayers as AP3\n",
      "    WHERE   AP1.playerID = AP2.playerID AND \n",
      "            AP2.playerID = AP3.playerID AND \n",
      "            AP1.yearID = AP2.yearID + 1 AND \n",
      "            AP2.yearID = AP3.yearID + 1\n",
      "    ORDER BY playerID ASC;\n",
      "    \"\"\"\n",
      "\n",
      "    # Stap 2 & 3\n",
      "    res = run_query(connection, query)  # Query uitvoeren\n",
      "    df = res_to_df(res, column_names)  # Query in DataFrame brengen\n",
      "\n",
      "    return df\n",
      "\n"
     ]
    }
   ],
   "source": [
    "qry_06 = collect_relevant_solutions(ms, query_id=6)\n",
    "\n",
    "# Print solution(s)\n",
    "for name, query, source_code in qry_06:\n",
    "    print(source_code)"
   ]
  },
  {
   "cell_type": "code",
   "execution_count": 25,
   "metadata": {},
   "outputs": [
    {
     "data": {
      "text/markdown": [
       "## 3.7 Query 07\n",
       "\n",
       "**Beschrijving**\n",
       "\n",
       "Het resultaat van deze functie is een Pandas dataframe dat alle personen bevat die een spelersprijs gewonnen hebben in `jaar_y` terwijl ze speelden voor een team gemanaged, in dat jaar, door team manager `manager_x`. Van deze personen willen we de playerID, voornaam en achternaam.\n",
       "\n",
       "Sorteer oplopend op playerID.\n",
       "\n",
       "\n"
      ],
      "text/plain": [
       "<IPython.core.display.Markdown object>"
      ]
     },
     "metadata": {},
     "output_type": "display_data"
    }
   ],
   "source": [
    "display(Markdown(parse_markdown(qry_description_file, section_number=7)))"
   ]
  },
  {
   "cell_type": "markdown",
   "metadata": {},
   "source": [
    "**Oplossing**"
   ]
  },
  {
   "cell_type": "code",
   "execution_count": 26,
   "metadata": {},
   "outputs": [
    {
     "name": "stdout",
     "output_type": "stream",
     "text": [
      "def query_07(connection, column_names, jaar_y=1980, manager_x=\"joske\"):\n",
      "    # Bouw je query\n",
      "    query = \"\"\"\n",
      "    SELECT DISTINCT p.playerID, p.nameFirst, p.nameLast\n",
      "    FROM master AS p, awardsplayers AS pa, salaries AS s, managers as m\n",
      "    WHERE   p.playerID = pa.playerID AND\n",
      "            p.playerID = s.playerID AND\n",
      "            pa.yearID = {} AND\n",
      "            s.yearID = pa.yearID AND\n",
      "            m.yearID = s.yearID AND\n",
      "            m.playerID = '{}' AND\n",
      "            m.plyrMgr = 'N' AND\n",
      "            s.teamID = m.teamID\n",
      "    ORDER BY p.playerID ASC;\n",
      "    \"\"\".format(\n",
      "        jaar_y, manager_x\n",
      "    )\n",
      "\n",
      "    # Stap 2 & 3\n",
      "    res = run_query(connection, query)  # Query uitvoeren\n",
      "    df = res_to_df(res, column_names)  # Query in DataFrame brengen\n",
      "\n",
      "    return df\n",
      "\n"
     ]
    }
   ],
   "source": [
    "qry_07 = collect_relevant_solutions(ms, query_id=7)\n",
    "\n",
    "# Print solution(s)\n",
    "for name, query, source_code in qry_07:\n",
    "    print(source_code)"
   ]
  },
  {
   "cell_type": "code",
   "execution_count": 27,
   "metadata": {},
   "outputs": [
    {
     "data": {
      "text/markdown": [
       "## 3.8 Query 08\n",
       "\n",
       "**Beschrijving**\n",
       "\n",
       "Het resultaat van deze functie is een Pandas dataframe dat alle personen bevat wiens gemiddelde loon hoger is dan het gemiddelde loon over alle spelers en jaren. Van deze personen willen we de ID, voornaam en achternaam.\n",
       "\n",
       "Sorteer oplopend op playerID.\n",
       "\n",
       "\n"
      ],
      "text/plain": [
       "<IPython.core.display.Markdown object>"
      ]
     },
     "metadata": {},
     "output_type": "display_data"
    }
   ],
   "source": [
    "display(Markdown(parse_markdown(qry_description_file, section_number=8)))"
   ]
  },
  {
   "cell_type": "markdown",
   "metadata": {},
   "source": [
    "**Oplossing**"
   ]
  },
  {
   "cell_type": "code",
   "execution_count": 28,
   "metadata": {},
   "outputs": [
    {
     "name": "stdout",
     "output_type": "stream",
     "text": [
      "def query_08(connection, column_names):\n",
      "    # Bouw je query\n",
      "    query = \"\"\"\n",
      "    SELECT M.playerID, M.nameFirst, M.nameLast\n",
      "    FROM Salaries as S JOIN Master as M on S.PlayerID = M.PlayerID\n",
      "    GROUP BY playerID\n",
      "    HAVING AVG(Salary) > (  SELECT AVG(Salary) \n",
      "                            FROM Salaries)\n",
      "    ORDER BY playerID ASC;\n",
      "    \"\"\"\n",
      "\n",
      "    # Stap 2 & 3\n",
      "    res = run_query(connection, query)  # Query uitvoeren\n",
      "    df = res_to_df(res, column_names)  # Query in DataFrame brengen\n",
      "\n",
      "    return df\n",
      "\n"
     ]
    }
   ],
   "source": [
    "qry_08 = collect_relevant_solutions(ms, query_id=8)\n",
    "\n",
    "# Print solution(s)\n",
    "for name, query, source_code in qry_08:\n",
    "    print(source_code)"
   ]
  },
  {
   "cell_type": "code",
   "execution_count": 29,
   "metadata": {},
   "outputs": [
    {
     "data": {
      "text/markdown": [
       "## 3.9 Query 09\n",
       "\n",
       "**Beschrijving**\n",
       "\n",
       "Het resultaat van deze functie is een Pandas dataframe dat voor alle teams: hun team ID, naam, beste jaar en het aantal wins in dat jaar bevat.\n",
       "\n",
       "Het _beste jaar_ voor een team wordt hier gedefinieerd als het jaar met het hoogste aantal wins. In het geval van jaren met hetzelfde aantal wins is het meest recente jaar het beste jaar. \n",
       "\n",
       "Sorteer aflopend op aantal wins en dan aflopend op teamID.\n",
       "\n",
       "\n"
      ],
      "text/plain": [
       "<IPython.core.display.Markdown object>"
      ]
     },
     "metadata": {},
     "output_type": "display_data"
    }
   ],
   "source": [
    "display(Markdown(parse_markdown(qry_description_file, section_number=9)))"
   ]
  },
  {
   "cell_type": "markdown",
   "metadata": {},
   "source": [
    "**Oplossing**"
   ]
  },
  {
   "cell_type": "code",
   "execution_count": 30,
   "metadata": {},
   "outputs": [
    {
     "name": "stdout",
     "output_type": "stream",
     "text": [
      "def query_09(connection, column_names):\n",
      "\n",
      "    # Bouw je query\n",
      "    query = \"\"\"\n",
      "    SELECT t.teamID, t.name, MAX(t.yearID), t.W\n",
      "    FROM teams AS t\n",
      "    WHERE NOT EXISTS (  SELECT * \n",
      "                        FROM teams as t2\n",
      "                        WHERE   t.teamID = t2.teamID AND \n",
      "                                t.yearID != t2.yearID AND\n",
      "                                t.W < t2.W)\n",
      "    GROUP BY teamID\n",
      "    ORDER BY t.W DESC, teamID DESC\n",
      "    \"\"\"\n",
      "\n",
      "    # Stap 2 & 3\n",
      "    res = run_query(connection, query)  # Query uitvoeren\n",
      "    df = res_to_df(res, column_names)  # Query in DataFrame brengen\n",
      "\n",
      "    return df\n",
      "\n"
     ]
    }
   ],
   "source": [
    "qry_09 = collect_relevant_solutions(ms, query_id=9)\n",
    "\n",
    "# Print solution(s)\n",
    "for name, query, source_code in qry_09:\n",
    "    print(source_code)"
   ]
  },
  {
   "cell_type": "code",
   "execution_count": 31,
   "metadata": {},
   "outputs": [
    {
     "data": {
      "text/markdown": [
       "## 3.10 Query 10\n",
       "\n",
       "**Beschrijving**\n",
       "\n",
       "Het resultaat van deze functie is een Pandas dataframe dat alle teams bevat waar in jaar `jaar_y` geen speler van dat team een award heeft gewonnen.\n",
       "\n",
       "Een speler speelt voor een team wanneer deze betaald wordt door dat team. Voor elk van die teams bevat het resultaat de teamID en naam.\n",
       "\n",
       "Sorteer oplopend op teamID.\n"
      ],
      "text/plain": [
       "<IPython.core.display.Markdown object>"
      ]
     },
     "metadata": {},
     "output_type": "display_data"
    }
   ],
   "source": [
    "display(Markdown(parse_markdown(qry_description_file, section_number=10)))"
   ]
  },
  {
   "cell_type": "markdown",
   "metadata": {},
   "source": [
    "**Oplossing**"
   ]
  },
  {
   "cell_type": "code",
   "execution_count": 32,
   "metadata": {
    "code_folding": []
   },
   "outputs": [
    {
     "name": "stdout",
     "output_type": "stream",
     "text": [
      "def query_10(connection, column_names, jaar_y=1990):\n",
      "    # Bouw je query\n",
      "    query = \"\"\"\n",
      "    SELECT DISTINCT T.teamId, T.name\n",
      "    FROM teams as T\n",
      "    WHERE NOT EXISTS (   SELECT *\n",
      "                         FROM awardsplayers as AP\n",
      "                         WHERE   AP.yearID = {} AND\n",
      "                                 AP.playerID IN (SELECT S.PlayerID\n",
      "                                                 FROM salaries as S\n",
      "                                                 WHERE S.yearID = AP.yearID AND\n",
      "                                                 S.TeamID = T.TeamID)\n",
      "                     )  \n",
      "    ORDER BY teamID ASC;\n",
      "    \"\"\".format(\n",
      "        jaar_y\n",
      "    )\n",
      "\n",
      "    # Stap 2 & 3\n",
      "    res = run_query(connection, query)  # Query uitvoeren\n",
      "    df = res_to_df(res, column_names)  # Query in DataFrame brengen\n",
      "\n",
      "    return df\n",
      "\n"
     ]
    }
   ],
   "source": [
    "qry_10 = collect_relevant_solutions(ms, query_id=10)\n",
    "\n",
    "# Print solution(s)\n",
    "for name, query, source_code in qry_10:\n",
    "    print(source_code)"
   ]
  }
 ],
 "metadata": {
  "kernelspec": {
   "display_name": "db1819",
   "language": "python",
   "name": "db1819"
  },
  "language_info": {
   "codemirror_mode": {
    "name": "ipython",
    "version": 3
   },
   "file_extension": ".py",
   "mimetype": "text/x-python",
   "name": "python",
   "nbconvert_exporter": "python",
   "pygments_lexer": "ipython3",
   "version": "3.6.8"
  },
  "toc": {
   "nav_menu": {},
   "number_sections": true,
   "sideBar": true,
   "skip_h1_title": true,
   "toc_cell": false,
   "toc_position": {
    "height": "887px",
    "left": "0px",
    "right": "1623px",
    "top": "107px",
    "width": "218px"
   },
   "toc_section_display": true,
   "toc_window_display": true
  }
 },
 "nbformat": 4,
 "nbformat_minor": 2
}
